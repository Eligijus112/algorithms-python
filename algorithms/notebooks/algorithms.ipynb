{
 "cells": [
  {
   "cell_type": "code",
   "execution_count": null,
   "metadata": {},
   "outputs": [],
   "source": [
    "# Adding the root directories as packages\n",
    "import os \n",
    "import sys \n",
    "\n",
    "# Adding the whole project to module paths\n",
    "module_path = os.path.abspath(os.path.join('../..'))\n",
    "if module_path not in sys.path:\n",
    "    sys.path.append(module_path)\n",
    "\n",
    "# Importing the classes\n",
    "from algorithms.BubbleSort.BubbleSort import BubbleSort\n",
    "\n",
    "# Random number generation \n",
    "import random\n",
    "\n",
    "# Data wrangling \n",
    "import pandas as pd \n",
    "\n",
    "# Ploting \n",
    "import matplotlib.pyplot as plt \n",
    "import seaborn as sns "
   ]
  },
  {
   "cell_type": "markdown",
   "metadata": {},
   "source": [
    "# Algorithms \n",
    "\n",
    "## Bubble sort "
   ]
  },
  {
   "cell_type": "code",
   "execution_count": null,
   "metadata": {},
   "outputs": [],
   "source": [
    "# Maximum number of array length \n",
    "_max_length = 50\n",
    "\n",
    "# Defining the amount of expiremnts in each test\n",
    "_n_experiments = 200\n",
    "\n",
    "# Iteration results \n",
    "_iter_results = []\n",
    "\n",
    "for i in range(_max_length + 1):\n",
    "    for _ in range(_n_experiments):\n",
    "        if i >= 2:\n",
    "            # Creating a random array of length i \n",
    "            _arr = [\n",
    "                int(random.random() * 100) for _ in range(i)\n",
    "            ]\n",
    "\n",
    "            # Creating the object \n",
    "            _obj = BubbleSort(_arr)\n",
    "\n",
    "            # Sorting \n",
    "            _obj.sort()\n",
    "\n",
    "            # Creating the results dictionary \n",
    "            _results = {\n",
    "                'array_length': len(_arr),\n",
    "                'n_iter': _obj.n_iter,\n",
    "            }\n",
    "\n",
    "            # Appending to the master list \n",
    "            _iter_results.append(_results)\n",
    "\n",
    "# Creating a dataframe for result visualization \n",
    "d = pd.DataFrame(_iter_results)\n",
    "\n",
    "# Ploting the boxplots per group\n",
    "plt.figure(figsize=(16, 12))\n",
    "sns.boxplot(x='array_length', y='n_iter', data=d)\n",
    "plt.grid()\n",
    "plt.xlabel('Length of array', fontsize=20)\n",
    "plt.ylabel('Number of iteration distribution', fontsize=20)\n",
    "plt.title(\"Bubble Sort's iterations vs array length\", fontsize=20)\n",
    "plt.show()"
   ]
  },
  {
   "cell_type": "code",
   "execution_count": null,
   "metadata": {},
   "outputs": [],
   "source": []
  }
 ],
 "metadata": {
  "interpreter": {
   "hash": "a5d4d78695b6d5ce0671ef527bdd2586874c5970a1d6b68c74eaf8ef6067351b"
  },
  "kernelspec": {
   "display_name": "Python 3.8.10 ('algos_env': venv)",
   "language": "python",
   "name": "python3"
  },
  "language_info": {
   "codemirror_mode": {
    "name": "ipython",
    "version": 3
   },
   "file_extension": ".py",
   "mimetype": "text/x-python",
   "name": "python",
   "nbconvert_exporter": "python",
   "pygments_lexer": "ipython3",
   "version": "3.8.10"
  },
  "orig_nbformat": 4
 },
 "nbformat": 4,
 "nbformat_minor": 2
}
